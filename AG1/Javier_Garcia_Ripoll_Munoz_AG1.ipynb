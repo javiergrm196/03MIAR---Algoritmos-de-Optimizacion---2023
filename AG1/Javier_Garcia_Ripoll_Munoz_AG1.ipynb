{
  "nbformat": 4,
  "nbformat_minor": 0,
  "metadata": {
    "colab": {
      "provenance": [],
      "include_colab_link": true
    },
    "kernelspec": {
      "name": "python3",
      "display_name": "Python 3"
    },
    "language_info": {
      "name": "python"
    }
  },
  "cells": [
    {
      "cell_type": "markdown",
      "metadata": {
        "id": "view-in-github",
        "colab_type": "text"
      },
      "source": [
        "<a href=\"https://colab.research.google.com/github/javiergrm196/03MIAR---Algoritmos-de-Optimizacion---2023/blob/main/Javier_Garcia_Ripoll_Munoz_AG1.ipynb\" target=\"_parent\"><img src=\"https://colab.research.google.com/assets/colab-badge.svg\" alt=\"Open In Colab\"/></a>"
      ]
    },
    {
      "cell_type": "markdown",
      "metadata": {
        "id": "GG2D6vLdYwwy"
      },
      "source": [
        "Actividad Guiada 1 de Algoritmos de Optimizacion\n",
        "\n",
        "Nombre: Javier García-Ripoll Muñoz\n",
        "\n",
        "https://colab.research.google.com/drive/1r7974VPzIlyrCmZER7N6slnIHx5dTXFH?usp=sharing\n",
        "\n",
        "https://github.com/javiergrm196/03MIAR---Algoritmos-de-Optimizacion---2023.git"
      ]
    },
    {
      "cell_type": "code",
      "metadata": {
        "id": "rTiqLuX2ZKuL",
        "outputId": "61085698-1030-4e41-e329-42ae8d1733dd",
        "colab": {
          "base_uri": "https://localhost:8080/"
        }
      },
      "source": [
        "#Torres de Hanoi - Divide y venceras\n",
        "################################################################################\n",
        "\n",
        "\n",
        "################################################################\n",
        "def Torres_Hanoi(N, desde, hasta):\n",
        "  #N - Nº de fichas\n",
        "  #desde - torre inicial\n",
        "  #hasta - torre fina\n",
        "  if N==1 :\n",
        "    print(\"Lleva la ficha desde \" + str(desde) + \" hasta \" + str(hasta))\n",
        "\n",
        "  else:\n",
        "    Torres_Hanoi(N-1, desde, 6-desde-hasta)\n",
        "    print(\"Lleva la ficha desde \" + str(desde) + \" hasta \" + str(hasta))\n",
        "    Torres_Hanoi(N-1, 6-desde-hasta,  hasta)\n",
        "\n",
        "Torres_Hanoi(5, 1, 3)\n",
        "################################################################"
      ],
      "execution_count": null,
      "outputs": [
        {
          "output_type": "stream",
          "name": "stdout",
          "text": [
            "Lleva la ficha desde 1 hasta 3\n",
            "Lleva la ficha desde 1 hasta 2\n",
            "Lleva la ficha desde 3 hasta 2\n",
            "Lleva la ficha desde 1 hasta 3\n",
            "Lleva la ficha desde 2 hasta 1\n",
            "Lleva la ficha desde 2 hasta 3\n",
            "Lleva la ficha desde 1 hasta 3\n",
            "Lleva la ficha desde 1 hasta 2\n",
            "Lleva la ficha desde 3 hasta 2\n",
            "Lleva la ficha desde 3 hasta 1\n",
            "Lleva la ficha desde 2 hasta 1\n",
            "Lleva la ficha desde 3 hasta 2\n",
            "Lleva la ficha desde 1 hasta 3\n",
            "Lleva la ficha desde 1 hasta 2\n",
            "Lleva la ficha desde 3 hasta 2\n",
            "Lleva la ficha desde 1 hasta 3\n",
            "Lleva la ficha desde 2 hasta 1\n",
            "Lleva la ficha desde 2 hasta 3\n",
            "Lleva la ficha desde 1 hasta 3\n",
            "Lleva la ficha desde 2 hasta 1\n",
            "Lleva la ficha desde 3 hasta 2\n",
            "Lleva la ficha desde 3 hasta 1\n",
            "Lleva la ficha desde 2 hasta 1\n",
            "Lleva la ficha desde 2 hasta 3\n",
            "Lleva la ficha desde 1 hasta 3\n",
            "Lleva la ficha desde 1 hasta 2\n",
            "Lleva la ficha desde 3 hasta 2\n",
            "Lleva la ficha desde 1 hasta 3\n",
            "Lleva la ficha desde 2 hasta 1\n",
            "Lleva la ficha desde 2 hasta 3\n",
            "Lleva la ficha desde 1 hasta 3\n"
          ]
        }
      ]
    },
    {
      "cell_type": "code",
      "metadata": {
        "id": "UTL6wiczQVDA"
      },
      "source": [],
      "execution_count": null,
      "outputs": []
    },
    {
      "cell_type": "code",
      "metadata": {
        "id": "YwBudj2hYoMR",
        "colab": {
          "base_uri": "https://localhost:8080/"
        },
        "outputId": "c9eaf544-4ca9-4d30-fe8a-b2543ad83d24"
      },
      "source": [
        "#Cambio de monedas - Técnica voraz\n",
        "################################################################################\n",
        "SISTEMA = [12, 5 ,2, 1  ]\n",
        "################################################################\n",
        "def cambio_monedas(CANTIDAD,SISTEMA):\n",
        "#....\n",
        "  SOLUCION = [0]*len(SISTEMA)\n",
        "  ValorAcumulado = 0\n",
        "\n",
        "  for i,valor in enumerate(SISTEMA):\n",
        "    monedas = (CANTIDAD-ValorAcumulado)//valor\n",
        "    SOLUCION[i] = monedas\n",
        "    ValorAcumulado = ValorAcumulado + monedas*valor\n",
        "\n",
        "    if CANTIDAD == ValorAcumulado:\n",
        "      return SOLUCION\n",
        "\n",
        "  print(\"No es posible encontrar solucion\")\n",
        "cambio_monedas(15,SISTEMA)\n",
        "\n",
        "\n",
        "################################################################"
      ],
      "execution_count": null,
      "outputs": [
        {
          "output_type": "execute_result",
          "data": {
            "text/plain": [
              "[1, 0, 1, 1]"
            ]
          },
          "metadata": {},
          "execution_count": 3
        }
      ]
    },
    {
      "cell_type": "code",
      "metadata": {
        "id": "9toJ4WjhQUNj"
      },
      "source": [],
      "execution_count": null,
      "outputs": []
    },
    {
      "cell_type": "code",
      "metadata": {
        "id": "H4Iwt2XRZTFr",
        "colab": {
          "base_uri": "https://localhost:8080/"
        },
        "outputId": "4a9abbe7-b47f-4aad-fc18-7530f677c570"
      },
      "source": [
        "#N Reinas - Vuelta Atrás()\n",
        "################################################################################\n",
        "\n",
        "#Verifica que en la solución parcial no hay amenzas entre reinas\n",
        "################################################################\n",
        "def es_prometedora(SOLUCION,etapa):\n",
        "################################################################\n",
        "  #print(SOLUCION)\n",
        "  #Si la solución tiene dos valores iguales no es valida => Dos reinas en la misma fila\n",
        "  for i in range(etapa+1):\n",
        "    #print(\"El valor \" + str(SOLUCION[i]) + \" está \" +  str(SOLUCION.count(SOLUCION[i])) + \" veces\")\n",
        "    if SOLUCION.count(SOLUCION[i]) > 1:\n",
        "      return False\n",
        "\n",
        "    #Verifica las diagonales\n",
        "    for j in range(i+1, etapa +1 ):\n",
        "      #print(\"Comprobando diagonal de \" + str(i) + \" y \" + str(j))\n",
        "      if abs(i-j) == abs(SOLUCION[i]-SOLUCION[j]) : return False\n",
        "  return True\n",
        "\n",
        "#Traduce la solución al tablero\n",
        "################################################################\n",
        "def escribe_solucion(S):\n",
        "################################################################\n",
        "  n = len(S)\n",
        "  for x in range(n):\n",
        "    print(\"\")\n",
        "    for i in range(n):\n",
        "      if S[i] == x+1:\n",
        "        print(\" X \" , end=\"\")\n",
        "      else:\n",
        "        print(\" - \", end=\"\")\n",
        "\n",
        "\n",
        "\n",
        "#Proceso principal de N-Reinas\n",
        "################################################################\n",
        "def reinas(N, solucion=[],etapa=0):\n",
        "################################################################\n",
        "### ....\n",
        "  if len(solucion) == 0:         # [0,0,0...]\n",
        "    solucion = [0 for i in range(N) ]\n",
        "\n",
        "  for i in range(1, N+1):\n",
        "    solucion[etapa] = i\n",
        "    if es_prometedora(solucion, etapa):\n",
        "      if etapa == N-1:\n",
        "        print(solucion)\n",
        "      else:\n",
        "        reinas(N, solucion, etapa+1)\n",
        "    else:\n",
        "      None\n",
        "\n",
        "  solucion[etapa] = 0\n",
        "\n",
        "reinas(8,solucion=[],etapa=0)"
      ],
      "execution_count": null,
      "outputs": [
        {
          "output_type": "stream",
          "name": "stdout",
          "text": [
            "[1, 5, 8, 6, 3, 7, 2, 4]\n",
            "[1, 6, 8, 3, 7, 4, 2, 5]\n",
            "[1, 7, 4, 6, 8, 2, 5, 3]\n",
            "[1, 7, 5, 8, 2, 4, 6, 3]\n",
            "[2, 4, 6, 8, 3, 1, 7, 5]\n",
            "[2, 5, 7, 1, 3, 8, 6, 4]\n",
            "[2, 5, 7, 4, 1, 8, 6, 3]\n",
            "[2, 6, 1, 7, 4, 8, 3, 5]\n",
            "[2, 6, 8, 3, 1, 4, 7, 5]\n",
            "[2, 7, 3, 6, 8, 5, 1, 4]\n",
            "[2, 7, 5, 8, 1, 4, 6, 3]\n",
            "[2, 8, 6, 1, 3, 5, 7, 4]\n",
            "[3, 1, 7, 5, 8, 2, 4, 6]\n",
            "[3, 5, 2, 8, 1, 7, 4, 6]\n",
            "[3, 5, 2, 8, 6, 4, 7, 1]\n",
            "[3, 5, 7, 1, 4, 2, 8, 6]\n",
            "[3, 5, 8, 4, 1, 7, 2, 6]\n",
            "[3, 6, 2, 5, 8, 1, 7, 4]\n",
            "[3, 6, 2, 7, 1, 4, 8, 5]\n",
            "[3, 6, 2, 7, 5, 1, 8, 4]\n",
            "[3, 6, 4, 1, 8, 5, 7, 2]\n",
            "[3, 6, 4, 2, 8, 5, 7, 1]\n",
            "[3, 6, 8, 1, 4, 7, 5, 2]\n",
            "[3, 6, 8, 1, 5, 7, 2, 4]\n",
            "[3, 6, 8, 2, 4, 1, 7, 5]\n",
            "[3, 7, 2, 8, 5, 1, 4, 6]\n",
            "[3, 7, 2, 8, 6, 4, 1, 5]\n",
            "[3, 8, 4, 7, 1, 6, 2, 5]\n",
            "[4, 1, 5, 8, 2, 7, 3, 6]\n",
            "[4, 1, 5, 8, 6, 3, 7, 2]\n",
            "[4, 2, 5, 8, 6, 1, 3, 7]\n",
            "[4, 2, 7, 3, 6, 8, 1, 5]\n",
            "[4, 2, 7, 3, 6, 8, 5, 1]\n",
            "[4, 2, 7, 5, 1, 8, 6, 3]\n",
            "[4, 2, 8, 5, 7, 1, 3, 6]\n",
            "[4, 2, 8, 6, 1, 3, 5, 7]\n",
            "[4, 6, 1, 5, 2, 8, 3, 7]\n",
            "[4, 6, 8, 2, 7, 1, 3, 5]\n",
            "[4, 6, 8, 3, 1, 7, 5, 2]\n",
            "[4, 7, 1, 8, 5, 2, 6, 3]\n",
            "[4, 7, 3, 8, 2, 5, 1, 6]\n",
            "[4, 7, 5, 2, 6, 1, 3, 8]\n",
            "[4, 7, 5, 3, 1, 6, 8, 2]\n",
            "[4, 8, 1, 3, 6, 2, 7, 5]\n",
            "[4, 8, 1, 5, 7, 2, 6, 3]\n",
            "[4, 8, 5, 3, 1, 7, 2, 6]\n",
            "[5, 1, 4, 6, 8, 2, 7, 3]\n",
            "[5, 1, 8, 4, 2, 7, 3, 6]\n",
            "[5, 1, 8, 6, 3, 7, 2, 4]\n",
            "[5, 2, 4, 6, 8, 3, 1, 7]\n",
            "[5, 2, 4, 7, 3, 8, 6, 1]\n",
            "[5, 2, 6, 1, 7, 4, 8, 3]\n",
            "[5, 2, 8, 1, 4, 7, 3, 6]\n",
            "[5, 3, 1, 6, 8, 2, 4, 7]\n",
            "[5, 3, 1, 7, 2, 8, 6, 4]\n",
            "[5, 3, 8, 4, 7, 1, 6, 2]\n",
            "[5, 7, 1, 3, 8, 6, 4, 2]\n",
            "[5, 7, 1, 4, 2, 8, 6, 3]\n",
            "[5, 7, 2, 4, 8, 1, 3, 6]\n",
            "[5, 7, 2, 6, 3, 1, 4, 8]\n",
            "[5, 7, 2, 6, 3, 1, 8, 4]\n",
            "[5, 7, 4, 1, 3, 8, 6, 2]\n",
            "[5, 8, 4, 1, 3, 6, 2, 7]\n",
            "[5, 8, 4, 1, 7, 2, 6, 3]\n",
            "[6, 1, 5, 2, 8, 3, 7, 4]\n",
            "[6, 2, 7, 1, 3, 5, 8, 4]\n",
            "[6, 2, 7, 1, 4, 8, 5, 3]\n",
            "[6, 3, 1, 7, 5, 8, 2, 4]\n",
            "[6, 3, 1, 8, 4, 2, 7, 5]\n",
            "[6, 3, 1, 8, 5, 2, 4, 7]\n",
            "[6, 3, 5, 7, 1, 4, 2, 8]\n",
            "[6, 3, 5, 8, 1, 4, 2, 7]\n",
            "[6, 3, 7, 2, 4, 8, 1, 5]\n",
            "[6, 3, 7, 2, 8, 5, 1, 4]\n",
            "[6, 3, 7, 4, 1, 8, 2, 5]\n",
            "[6, 4, 1, 5, 8, 2, 7, 3]\n",
            "[6, 4, 2, 8, 5, 7, 1, 3]\n",
            "[6, 4, 7, 1, 3, 5, 2, 8]\n",
            "[6, 4, 7, 1, 8, 2, 5, 3]\n",
            "[6, 8, 2, 4, 1, 7, 5, 3]\n",
            "[7, 1, 3, 8, 6, 4, 2, 5]\n",
            "[7, 2, 4, 1, 8, 5, 3, 6]\n",
            "[7, 2, 6, 3, 1, 4, 8, 5]\n",
            "[7, 3, 1, 6, 8, 5, 2, 4]\n",
            "[7, 3, 8, 2, 5, 1, 6, 4]\n",
            "[7, 4, 2, 5, 8, 1, 3, 6]\n",
            "[7, 4, 2, 8, 6, 1, 3, 5]\n",
            "[7, 5, 3, 1, 6, 8, 2, 4]\n",
            "[8, 2, 4, 1, 7, 5, 3, 6]\n",
            "[8, 2, 5, 3, 1, 7, 4, 6]\n",
            "[8, 3, 1, 6, 2, 5, 7, 4]\n",
            "[8, 4, 1, 3, 6, 2, 7, 5]\n"
          ]
        }
      ]
    },
    {
      "cell_type": "code",
      "metadata": {
        "id": "eTZclKH9QV0R",
        "colab": {
          "base_uri": "https://localhost:8080/"
        },
        "outputId": "12fb56f5-881a-4acc-a52d-5ed260f813ed"
      },
      "source": [
        "escribe_solucion([1, 5, 8, 6, 3, 7, 2, 4])"
      ],
      "execution_count": null,
      "outputs": [
        {
          "output_type": "stream",
          "name": "stdout",
          "text": [
            "\n",
            " X  -  -  -  -  -  -  - \n",
            " -  -  -  -  -  -  X  - \n",
            " -  -  -  -  X  -  -  - \n",
            " -  -  -  -  -  -  -  X \n",
            " -  X  -  -  -  -  -  - \n",
            " -  -  -  X  -  -  -  - \n",
            " -  -  -  -  -  X  -  - \n",
            " -  -  X  -  -  -  -  - "
          ]
        }
      ]
    },
    {
      "cell_type": "code",
      "metadata": {
        "id": "TocxR55dQWq5",
        "outputId": "90cdf27e-b470-474a-88f3-b62f53d57215",
        "colab": {
          "base_uri": "https://localhost:8080/",
          "height": 381
        }
      },
      "source": [
        "#Viaje por el rio - Programación dinámica\n",
        "################################################################################\n",
        "\n",
        "TARIFAS = [\n",
        "[0,5,4,3,999,999,999],\n",
        "[999,0,999,2,3,999,11],\n",
        "[999,999, 0,1,999,4,10],\n",
        "[999,999,999, 0,5,6,9],\n",
        "[999,999, 999,999,0,999,4],\n",
        "[999,999, 999,999,999,0,3],\n",
        "[999,999,999,999,999,999,0]\n",
        "]\n",
        "\n",
        "#999 se puede sustituir por float(\"inf\")\n",
        "\n",
        "\n",
        "#Calculo de la matriz de PRECIOS y RUTAS\n",
        "################################################################\n",
        "def Precios(TARIFAS):\n",
        "################################################################\n",
        "  #Total de Nodos\n",
        "  N = len(TARIFAS[0])\n",
        "\n",
        "  #Inicialización de la tabla de precios\n",
        "  PRECIOS = [ [9999]*N for i in [9999]*N]\n",
        "  RUTA = [ [\"\"]*N for i in [\"\"]*N]\n",
        "\n",
        "  for i in range(0,N-1):\n",
        "    RUTA[i][i] = i             #Para ir de i a i se \"pasa por i\"\n",
        "    PRECIOS[i][i] = 0          #Para ir de i a i se se paga 0\n",
        "    for j in range(i+1, N):\n",
        "      MIN = TARIFAS[i][j]\n",
        "      RUTA[i][j] = i\n",
        "\n",
        "      for k in range(i, j):\n",
        "        if PRECIOS[i][k] + TARIFAS[k][j] < MIN:\n",
        "            MIN = min(MIN, PRECIOS[i][k] + TARIFAS[k][j] )\n",
        "            RUTA[i][j] = k          #Anota que para ir de i a j hay que pasar por k\n",
        "        PRECIOS[i][j] = MIN\n",
        "\n",
        "  return PRECIOS,RUTA\n",
        "################################################################\n",
        "\n",
        "PRECIOS,RUTA = Precios(TARIFAS)\n",
        "#print(PRECIOS[0][6])\n",
        "\n",
        "print(\"PRECIOS\")\n",
        "for i in range(len(TARIFAS)):\n",
        "  print(PRECIOS[i])\n",
        "\n",
        "print(\"\\nRUTA\")\n",
        "for i in range(len(TARIFAS)):\n",
        "  print(RUTA[i])\n",
        "\n",
        "#Determinar la ruta con Recursividad\n",
        "def calcular_ruta(RUTA, desde, hasta):\n",
        "  if desde == hasta:\n",
        "    #print(\"Ir a :\" + str(desde))\n",
        "    return \"\"\n",
        "  else:\n",
        "    return str(calcular_ruta( RUTA, desde, RUTA[desde][hasta])) +  \\\n",
        "                ',' + \\\n",
        "                str(RUTA[desde][hasta] \\\n",
        "              )\n",
        "\n",
        "print(\"\\nLa ruta es:\")\n",
        "calcular_ruta(RUTA, 0,6)"
      ],
      "execution_count": null,
      "outputs": [
        {
          "output_type": "stream",
          "name": "stdout",
          "text": [
            "PRECIOS\n",
            "[0, 5, 4, 3, 8, 8, 11]\n",
            "[9999, 0, 999, 2, 3, 8, 7]\n",
            "[9999, 9999, 0, 1, 6, 4, 7]\n",
            "[9999, 9999, 9999, 0, 5, 6, 9]\n",
            "[9999, 9999, 9999, 9999, 0, 999, 4]\n",
            "[9999, 9999, 9999, 9999, 9999, 0, 3]\n",
            "[9999, 9999, 9999, 9999, 9999, 9999, 9999]\n",
            "\n",
            "RUTA\n",
            "[0, 0, 0, 0, 1, 2, 5]\n",
            "['', 1, 1, 1, 1, 3, 4]\n",
            "['', '', 2, 2, 3, 2, 5]\n",
            "['', '', '', 3, 3, 3, 3]\n",
            "['', '', '', '', 4, 4, 4]\n",
            "['', '', '', '', '', 5, 5]\n",
            "['', '', '', '', '', '', '']\n",
            "\n",
            "La ruta es:\n"
          ]
        },
        {
          "output_type": "execute_result",
          "data": {
            "text/plain": [
              "',0,2,5'"
            ],
            "application/vnd.google.colaboratory.intrinsic+json": {
              "type": "string"
            }
          },
          "metadata": {},
          "execution_count": 2
        }
      ]
    },
    {
      "cell_type": "code",
      "source": [],
      "metadata": {
        "id": "3ZDnVD6bCYyg"
      },
      "execution_count": null,
      "outputs": []
    },
    {
      "cell_type": "code",
      "source": [
        "#Encontrar los dos puntos más cercanos\n",
        "################################################################################\n",
        "\n",
        "# Método 1: FUERZA BRUTA\n",
        "import random\n",
        "\n",
        "LISTA_1D = [random.randrange(1, 10000) for x in range(1000)]\n",
        "LISTA_2D = [(random.randrange(1, 10000), random.randrange(1, 10000)) for x in range(1000)]\n",
        "\n",
        "def puntos_cercanos_fuerza_bruta(puntos):\n",
        "    if len(puntos) < 2:\n",
        "        return None\n",
        "\n",
        "    solucion = (puntos[0], puntos[1])\n",
        "\n",
        "    for i in range(len(puntos)):\n",
        "        for j in range(i+1, len(puntos)):\n",
        "            if (abs(puntos[i] - puntos[j])) < (abs(solucion[0] - solucion[1])):\n",
        "                solucion = (puntos[i], puntos[j])\n",
        "\n",
        "    return solucion\n",
        "\n",
        "print(\"Los dos puntos más cercanos son: \", puntos_cercanos_fuerza_bruta(LISTA_1D))\n",
        "\n",
        "# La complejidad es de O(n^2)\n",
        "# Porque se comparan cada par de elementos siendo el número de iteraciones:\n",
        "# n + (n-1) + ... + 1, que tiene como límite n^2.\n",
        "# Esta complejidad puede mejorarse como se verá en los apartados siguientes\n"
      ],
      "metadata": {
        "id": "rzBSUFz7CY9K",
        "colab": {
          "base_uri": "https://localhost:8080/"
        },
        "outputId": "6ecbacaa-64cd-499c-d8d8-ce94b01ad082"
      },
      "execution_count": null,
      "outputs": [
        {
          "output_type": "stream",
          "name": "stdout",
          "text": [
            "(9068, 9068)\n"
          ]
        }
      ]
    },
    {
      "cell_type": "code",
      "source": [
        "# Método 2: DIVIDE Y VENCERÁS\n",
        "\n",
        "\"\"\"\n",
        "Para aplicar este método, la principal dificultad surge al combinar soluciones\n",
        "parciales al problema (las soluciones de los sub-problemas).\n",
        "\n",
        "Este inconveniente se puede solucionar ordenando la lista de puntos\n",
        "antes de aplicar la recursión.\n",
        "\"\"\"\n",
        "\n",
        "LISTA_1D = [random.randrange(1, 10000) for x in range(1000)]\n",
        "\n",
        "# Utilizo heapsort porque tiene una complejidad O( n*log(n) )\n",
        "import heapq, random\n",
        "def heap_sort(arr):\n",
        "    heapq.heapify(arr)\n",
        "    result = []\n",
        "    while arr:\n",
        "        result.append(heapq.heappop(arr))\n",
        "    return result\n",
        "\n",
        "def distancia_1D(par):\n",
        "    return abs(par[0] - par[1])\n",
        "\n",
        "def puntos_cercanos_divide_venceras(puntos):\n",
        "    puntos = heap_sort(puntos)\n",
        "    return rec_puntos_cercanos_divide_venceras(puntos, len(puntos))\n",
        "\n",
        "# Función recursiva\n",
        "def rec_puntos_cercanos_divide_venceras(puntos, n):\n",
        "    if n <= 3:\n",
        "        return puntos_cercanos_fuerza_bruta(puntos)\n",
        "    else:\n",
        "        punto_medio = n // 2\n",
        "\n",
        "        solu1 = rec_puntos_cercanos_divide_venceras(puntos[:punto_medio], punto_medio)\n",
        "        solu2 = rec_puntos_cercanos_divide_venceras(puntos[punto_medio:], n-punto_medio)\n",
        "        solu_parcial = solu1 if distancia_1D(solu1) <= distancia_1D(solu2) else solu2\n",
        "\n",
        "        puntos_mitad = (puntos[punto_medio-1], puntos[punto_medio])\n",
        "\n",
        "        return solu_parcial if distancia_1D(solu_parcial) < distancia_1D(puntos_mitad) else puntos_mitad\n",
        "\n",
        "\"\"\"\n",
        "La complejudad de este algoritmo es:\n",
        "Ordenación: O( n log(n) )\n",
        "Algoritmo recursivo: O( n log(n) ) -> Esto es porque la relación de recursión\n",
        "    es T(n) = 2 * T(n/2) + O(n) y el árbol de recursión tiene profundidad log(n)\n",
        "Combinación de subproblemas: 1 (en este caso sólo tenemos que comparar los 2 puntos más cercanos\n",
        "al punto medio, es decir, hacemos una comparación).\n",
        "\n",
        "-> Total: O( n*log(n) + n*log(n) + 1) = O( n*log(n) )\n",
        "\n",
        "***** ¿Se puede mejorar? *****\n",
        "Podría intentar mejorarse la complejidad utilizando un algoritmo iterativo\n",
        "en lugar de recursivo, pero el paso de ordenación seguiría teniendo una\n",
        "complejidad O( n log(n) ) y por tanto no conseguiríamos mejorar la complejidad\n",
        "temporal.\n",
        "\n",
        "\"\"\"\n",
        "print(\"LISTA ORIGINAL: \", LISTA_1D)\n",
        "print(\"SOLUCIÓN: \", puntos_cercanos_divide_venceras(LISTA_1D))"
      ],
      "metadata": {
        "id": "7EJz6HAjaVST",
        "colab": {
          "base_uri": "https://localhost:8080/"
        },
        "outputId": "70df2eb3-9e73-4267-80ec-616bd937e612"
      },
      "execution_count": null,
      "outputs": [
        {
          "output_type": "stream",
          "name": "stdout",
          "text": [
            "LISTA ORIGINAL:  [6120, 2868, 5975, 927, 5206, 1955, 371, 6856, 9992, 2649, 7846, 6203, 8885, 4988, 4530, 6323, 2464, 8737, 1416, 9636, 6410, 9124, 6485, 9040, 6456, 3806, 4281, 9750, 9415, 254, 5595, 1570, 3879, 1420, 9800, 374, 9279, 4607, 2313, 7512, 5531, 1031, 8037, 5745, 8420, 3116, 5325, 943, 1593, 8728, 9910, 6234, 8688, 2418, 3879, 2243, 6831, 555, 1047, 5260, 1474, 6342, 7444, 6039, 8685, 5939, 5102, 621, 4600, 7203, 4673, 9714, 911, 4929, 6808, 5183, 8066, 6234, 5228, 9234, 3334, 6733, 7375, 3522, 2737, 5120, 4470, 8195, 7302, 8066, 2034, 573, 7595, 9639, 3076, 5019, 6412, 2738, 2958, 8186, 964, 462, 9314, 2769, 1207, 760, 472, 952, 3481, 910, 8434, 8137, 4520, 1516, 8762, 4660, 1609, 940, 467, 9009, 3217, 4729, 5061, 4624, 8529, 8758, 6811, 5428, 5266, 8509, 9416, 5634, 8333, 6945, 7325, 2692, 3232, 5964, 1978, 9009, 2944, 911, 1914, 6850, 3589, 9878, 9355, 2600, 3359, 122, 4752, 8386, 6086, 5290, 4063, 9328, 1891, 1538, 9397, 2584, 358, 2653, 4921, 9823, 253, 8948, 8667, 3104, 8403, 3327, 4068, 9218, 1538, 7533, 869, 1975, 4595, 7356, 327, 4215, 2636, 6169, 5486, 1549, 6544, 6139, 9434, 9107, 1122, 6147, 8620, 606, 1883, 7336, 6166, 9574, 5375, 4800, 8774, 642, 1943, 4683, 9259, 2254, 1757, 6873, 5077, 8967, 9668, 9809, 5933, 9896, 6094, 2958, 6281, 4495, 3334, 2834, 7179, 4584, 2055, 2534, 2739, 3199, 9118, 3635, 3786, 1693, 4291, 1815, 6118, 7330, 9598, 8810, 9453, 9676, 2420, 3166, 2880, 3491, 399, 6693, 3142, 3251, 2142, 6180, 1794, 4374, 2914, 6376, 7524, 2210, 3166, 4962, 2629, 8272, 818, 5274, 661, 4948, 2504, 835, 1648, 5346, 8756, 4369, 8233, 9074, 4264, 7143, 4964, 7621, 8376, 9580, 3394, 2337, 9190, 4729, 1796, 4117, 5475, 3710, 6411, 6016, 6701, 3983, 4525, 6416, 1269, 907, 5347, 5761, 1993, 1273, 3102, 3077, 1951, 7720, 6787, 5464, 3110, 3471, 3053, 8795, 4424, 638, 8309, 597, 9748, 6744, 4097, 9419, 6334, 3410, 9054, 3455, 6342, 1007, 3611, 8875, 8872, 1648, 4569, 2863, 9786, 4638, 5081, 1840, 3498, 9429, 6656, 5486, 2999, 2468, 7453, 4025, 102, 39, 8630, 9122, 7674, 1290, 5723, 698, 9833, 258, 3669, 7074, 753, 970, 4663, 8497, 4071, 7063, 948, 575, 3820, 9129, 557, 6804, 2267, 953, 7088, 2136, 8886, 4927, 5808, 8125, 1352, 2267, 162, 1353, 3767, 9381, 7498, 2841, 4831, 4257, 7476, 9596, 5326, 7445, 7860, 2021, 7541, 4545, 8561, 66, 2914, 5557, 2129, 5060, 4630, 3627, 8510, 7642, 6343, 7921, 3944, 3112, 85, 9849, 9674, 7287, 8076, 3140, 667, 9076, 2952, 416, 4689, 6536, 2581, 2287, 6448, 3054, 3327, 659, 9194, 3777, 3217, 6441, 7114, 5088, 5119, 7743, 2265, 1102, 8207, 9134, 2380, 5757, 862, 8311, 4265, 5933, 536, 9450, 5102, 1519, 9308, 4571, 9633, 946, 7873, 5587, 7628, 4745, 2157, 6261, 806, 8220, 9473, 5196, 7703, 1388, 6637, 9188, 399, 2344, 6499, 845, 9619, 2940, 90, 8614, 364, 3018, 9053, 4346, 9118, 1710, 5705, 3348, 4748, 6601, 5825, 4469, 9405, 4849, 458, 6086, 2921, 6972, 1919, 1985, 583, 8940, 6537, 1291, 6376, 5987, 1834, 4279, 619, 6646, 4755, 9436, 5547, 3834, 5662, 6774, 6399, 4399, 6293, 855, 6593, 8101, 9845, 7170, 8427, 8570, 1666, 7090, 4977, 8628, 7877, 5204, 8098, 7324, 5362, 523, 7280, 6850, 9951, 1392, 8731, 2351, 121, 496, 7573, 3711, 1717, 4730, 5469, 778, 681, 3489, 9367, 8531, 2793, 3721, 3484, 226, 7315, 6596, 7108, 6106, 9813, 4110, 9863, 5184, 7933, 2730, 1991, 9338, 4488, 2883, 3513, 3239, 8485, 2011, 4060, 2952, 1804, 8102, 3204, 3366, 823, 8625, 6159, 4937, 6274, 8145, 1956, 51, 2390, 7294, 8891, 781, 8503, 8594, 238, 9513, 7062, 3733, 3776, 4678, 4246, 9993, 3554, 3790, 3497, 6115, 3262, 6850, 9907, 3796, 355, 8280, 987, 9261, 8332, 9134, 1168, 421, 991, 3151, 6991, 7273, 8406, 5082, 455, 3623, 1993, 4164, 9653, 4649, 8469, 4250, 3157, 5605, 7692, 6742, 6292, 2095, 8068, 5957, 1004, 5595, 5344, 4662, 246, 2683, 3467, 49, 1264, 3976, 3011, 1374, 7863, 4995, 1763, 9803, 7896, 4453, 1421, 6689, 8666, 7091, 1649, 3055, 7002, 7220, 4808, 4615, 8686, 3662, 2868, 1990, 1607, 8158, 5958, 7074, 5553, 443, 3321, 186, 2905, 6813, 2294, 2532, 5267, 1518, 7098, 7496, 2335, 4932, 1080, 8551, 3938, 1610, 2963, 7859, 3603, 156, 2931, 2514, 9301, 993, 183, 4083, 5256, 7129, 3822, 7934, 9097, 4871, 6749, 8510, 8615, 9355, 8290, 8110, 7997, 2276, 7612, 1141, 2341, 5465, 6794, 3026, 6410, 2770, 9689, 4047, 4660, 6528, 8246, 7577, 4474, 2648, 9362, 6243, 1784, 3428, 3784, 4570, 1798, 2118, 2361, 5582, 2902, 6257, 5569, 6555, 9356, 795, 2811, 8388, 568, 6988, 8901, 6245, 2322, 524, 7181, 8474, 2640, 3753, 6791, 5618, 2354, 3812, 8503, 9665, 8112, 7149, 4734, 8080, 7465, 3847, 5880, 7689, 9093, 352, 9797, 5163, 876, 1339, 8710, 1807, 9612, 9320, 4997, 4703, 4758, 6719, 7410, 8861, 6877, 172, 8685, 6485, 3612, 7870, 8570, 1774, 5055, 3848, 6753, 4050, 5063, 7181, 5025, 9284, 3471, 5905, 9585, 56, 9660, 3267, 7151, 5235, 3389, 7764, 7605, 9843, 2372, 9481, 4400, 5300, 7062, 2492, 3335, 2142, 7522, 4942, 2885, 1488, 9664, 8144, 8838, 4288, 365, 1623, 9657, 4229, 9693, 7179, 2798, 9518, 1752, 3531, 5046, 1521, 1474, 7297, 1878, 6923, 1867, 3100, 1724, 7538, 778, 6240, 5620, 8398, 2009, 9889, 9568, 176, 3641, 1052, 4166, 7927, 988, 7551, 1165, 7285, 8441, 5792, 9428, 8444, 2849, 1112, 7762, 663, 525, 5853, 830, 504, 7807, 9305, 8647, 8247, 6224, 8126, 3363, 7979, 5574, 9645, 5047, 8359, 64, 5676, 8109, 2016, 6841, 7548, 5844, 3935, 5617, 6430, 8714, 8851, 9227, 915, 6106, 9409, 7493, 1507, 9130, 5015, 5709, 4539, 6739, 4696, 4398, 4719, 6068, 5695, 8560, 7153, 4317, 4848, 2542, 4044, 4398, 4531, 6284, 1644, 7371, 304, 7169, 1178, 1005, 8163, 7838, 9987, 474, 8232, 6880, 909, 5639, 2960, 5745, 4773, 1016, 1370, 8234, 5827, 9124, 5452, 7624, 2462, 8894, 9039, 4264, 6308, 9253, 5284, 6298, 678, 6066, 8373, 8913, 2889, 4004, 423, 5565, 1964, 8940, 3053, 8225, 9573, 9000, 3861, 1867, 6812, 2942, 5238, 8045, 7749, 5632, 8751, 2933, 5509, 7966, 7886, 7468, 5548, 9329, 7671, 9378, 5718, 5011, 8033, 1810, 2433, 3940, 1516, 3283, 6242, 4800, 7194, 5997, 5875, 2570, 7766]\n",
            "SOLUCIÓN:  (399, 399)\n"
          ]
        }
      ]
    },
    {
      "cell_type": "code",
      "source": [
        "# Puntos más cercanos - 2D\n",
        "################################################################################\n",
        "import math\n",
        "\n",
        "LISTA_2D = [(random.randrange(1, 10000), random.randrange(1, 10000)) for x in range(1000)]\n",
        "\n",
        "def distX(a, b):\n",
        "    return abs(a[0] - b[0])\n",
        "\n",
        "def distY(a, b):\n",
        "    return abs(a[1] - b[1])\n",
        "\n",
        "def distancia_2D(par):\n",
        "    return math.sqrt(distX(par[0], par[1])**2 + distY(par[0], par[1])**2)\n",
        "\n",
        "def puntos_cercanos_fuerza_bruta_2D(puntos):\n",
        "    if len(puntos) < 2:\n",
        "        return None\n",
        "    solucion = (puntos[0], puntos[1])\n",
        "    for i in range(len(puntos)):\n",
        "        for j in range(i+1, len(puntos)):\n",
        "            if distancia_2D((puntos[i], puntos[j])) < distancia_2D(solucion):\n",
        "                solucion = (puntos[i], puntos[j])\n",
        "    return solucion\n",
        "\n",
        "def rec_puntos_cercanos_2D(puntos, n):\n",
        "    if n <= 3:\n",
        "        return puntos_cercanos_fuerza_bruta_2D(puntos)\n",
        "    else:\n",
        "        # Soluciones parciales\n",
        "        punto_medio = n // 2\n",
        "        solu1 = rec_puntos_cercanos_2D(puntos[:punto_medio], punto_medio)\n",
        "        solu2 = rec_puntos_cercanos_2D(puntos[punto_medio:], n-punto_medio)\n",
        "        # Combinación de las soluciones parciales\n",
        "        min_dist = min(distancia_2D(solu1), distancia_2D(solu2))\n",
        "        franja_central = [pto for pto in puntos if distX(pto, puntos[punto_medio]) < min_dist]\n",
        "        franja_central = sorted(franja_central, key=lambda point: point[1]) # Ordeno los puntos según  la cordenada \"y\"\n",
        "        solu_comb = puntos_cercanos_fuerza_bruta_2D(franja_central)\n",
        "\n",
        "\n",
        "        return min([solu1, solu2, solu_comb], key = distancia_2D)\n",
        "\n",
        "def puntos_cercanos_2D(puntos):\n",
        "    return rec_puntos_cercanos_2D(heap_sort(puntos), len(puntos))\n",
        "\n",
        "\"\"\"\n",
        "La complejidad de este algoritmo es:\n",
        "Ordenar por coordenada X: O( n*log(n) )\n",
        "Recursión: O( n*log(n) ) (explicado en la versión 1D)\n",
        "Combinación: O( n*log(n) ) porque utilizamos un algorimto de ordenación:\n",
        "        - Ordenar los puntos por coordenada Y: O( n*log(n) )\n",
        "        - Encontrar la distancia más pequeña: O( n )\n",
        "TOTAL: O( n*log(n) )\n",
        "\"\"\"\n",
        "\n",
        "print(puntos_cercanos_2D(LISTA_2D))"
      ],
      "metadata": {
        "colab": {
          "base_uri": "https://localhost:8080/"
        },
        "id": "sGjBWe4BLNkJ",
        "outputId": "986fcb8f-f772-4d9e-b189-f8e23bef66c8"
      },
      "execution_count": null,
      "outputs": [
        {
          "output_type": "stream",
          "name": "stdout",
          "text": [
            "((466, 7213), (466, 7226))\n"
          ]
        }
      ]
    },
    {
      "cell_type": "code",
      "source": [
        "# Puntos más cercanos - 3D\n",
        "################################################################################\n",
        "\n",
        "LISTA_3D = [(random.randrange(1, 10000), random.randrange(1, 10000), random.randrange(1, 10000)) for x in range(1000)]\n",
        "\n",
        "def distancia_3D(puntos):\n",
        "    return abs(puntos[0][0] - puntos[1][0]) + abs(puntos[0][1] - puntos[1][1]) + abs(puntos[0][2] - puntos[1][2])\n",
        "\n",
        "def puntos_cercanos_fuerza_bruta_3D(puntos):\n",
        "    if len(puntos) < 2:\n",
        "        return None\n",
        "    solucion = (puntos[0], puntos[1])\n",
        "    for i in range(len(puntos)):\n",
        "        for j in range(i+1, len(puntos)):\n",
        "            if distancia_3D((puntos[i], puntos[j])) < distancia_3D(solucion):\n",
        "                solucion = (puntos[i], puntos[j])\n",
        "    return solucion\n",
        "\n",
        "def rec_puntos_cercanos_3D(puntos, n):\n",
        "    if n <= 3:\n",
        "        return puntos_cercanos_fuerza_bruta_3D(puntos)\n",
        "    else:\n",
        "        # Soluciones parciales\n",
        "        punto_medio = n // 2\n",
        "        solu1 = rec_puntos_cercanos_3D(puntos[:punto_medio], punto_medio)\n",
        "        solu2 = rec_puntos_cercanos_3D(puntos[punto_medio:], n-punto_medio)\n",
        "        # Combinación de las soluciones parciales\n",
        "        min_dist = min(distancia_3D(solu1), distancia_3D(solu2))\n",
        "        franja_central = [pto for pto in puntos if distX(pto, puntos[punto_medio]) < min_dist]\n",
        "        franja_central = sorted(franja_central, key=lambda point: (point[1], point[2])) # Ordeno los puntos según  la cordenada \"y\" y \"z\"\n",
        "        solu_comb = puntos_cercanos_fuerza_bruta_3D(franja_central)\n",
        "        return min([solu1, solu2, solu_comb], key = distancia_3D)\n",
        "\n",
        "def puntos_cercanos_3D(puntos):\n",
        "    puntos = sorted(puntos, key=lambda p: p[0])\n",
        "    return rec_puntos_cercanos_3D(puntos, len(puntos))\n",
        "\n",
        "\n",
        "\"\"\"\n",
        "La complejidad de este algoritmo será O( n*log(n)^2 )\n",
        "\"\"\"\n",
        "\n",
        "puntos = puntos_cercanos_3D(LISTA_3D)\n",
        "print(\"Resultado: \", puntos, \" || Distancia: \", distancia_3D(puntos))"
      ],
      "metadata": {
        "colab": {
          "base_uri": "https://localhost:8080/"
        },
        "id": "58yynC-gbzV4",
        "outputId": "bc88b886-0cd5-4d32-b64a-164afaaee5ad"
      },
      "execution_count": null,
      "outputs": [
        {
          "output_type": "stream",
          "name": "stdout",
          "text": [
            "Resultado:  ((1448, 3157, 6977), (1378, 3159, 6974))  || Distancia:  75\n"
          ]
        }
      ]
    }
  ]
}